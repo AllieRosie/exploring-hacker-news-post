{
 "cells": [
  {
   "cell_type": "markdown",
   "metadata": {
    "collapsed": true
   },
   "source": [
    "# My Second Data Science Project\n",
    "\n",
    "This is my second project, where I will analyze data from Hacker News. My goal is to compare `Ask HN` and `Show HN` posts to determine:\n",
    "1. Do Ask HN or Show HN receive more comments on average?\n",
    "2. Do posts created at a certain time receive more comments on average?"
   ]
  },
  {
   "cell_type": "code",
   "execution_count": 1,
   "metadata": {},
   "outputs": [
    {
     "name": "stdout",
     "output_type": "stream",
     "text": [
      "[['id', 'title', 'url', 'num_points', 'num_comments', 'author', 'created_at'], ['12224879', 'Interactive Dynamic Video', 'http://www.interactivedynamicvideo.com/', '386', '52', 'ne0phyte', '8/4/2016 11:52'], ['10975351', 'How to Use Open Source and Shut the Fuck Up at the Same Time', 'http://hueniverse.com/2016/01/26/how-to-use-open-source-and-shut-the-fuck-up-at-the-same-time/', '39', '10', 'josep2', '1/26/2016 19:30'], ['11964716', \"Florida DJs May Face Felony for April Fools' Water Joke\", 'http://www.thewire.com/entertainment/2013/04/florida-djs-april-fools-water-joke/63798/', '2', '1', 'vezycash', '6/23/2016 22:20'], ['11919867', 'Technology ventures: From Idea to Enterprise', 'https://www.amazon.com/Technology-Ventures-Enterprise-Thomas-Byers/dp/0073523429', '3', '1', 'hswarna', '6/17/2016 0:01']]\n"
     ]
    }
   ],
   "source": [
    "from csv import reader\n",
    "opened_file = open('hacker_news.csv')\n",
    "read_file = reader(opened_file)\n",
    "hn = list(read_file)\n",
    "print(hn[:5])"
   ]
  },
  {
   "cell_type": "code",
   "execution_count": 2,
   "metadata": {},
   "outputs": [
    {
     "name": "stdout",
     "output_type": "stream",
     "text": [
      "['id', 'title', 'url', 'num_points', 'num_comments', 'author', 'created_at']\n",
      "\n",
      "\n",
      "[['12224879', 'Interactive Dynamic Video', 'http://www.interactivedynamicvideo.com/', '386', '52', 'ne0phyte', '8/4/2016 11:52'], ['10975351', 'How to Use Open Source and Shut the Fuck Up at the Same Time', 'http://hueniverse.com/2016/01/26/how-to-use-open-source-and-shut-the-fuck-up-at-the-same-time/', '39', '10', 'josep2', '1/26/2016 19:30'], ['11964716', \"Florida DJs May Face Felony for April Fools' Water Joke\", 'http://www.thewire.com/entertainment/2013/04/florida-djs-april-fools-water-joke/63798/', '2', '1', 'vezycash', '6/23/2016 22:20'], ['11919867', 'Technology ventures: From Idea to Enterprise', 'https://www.amazon.com/Technology-Ventures-Enterprise-Thomas-Byers/dp/0073523429', '3', '1', 'hswarna', '6/17/2016 0:01'], ['10301696', 'Note by Note: The Making of Steinway L1037 (2007)', 'http://www.nytimes.com/2007/11/07/movies/07stein.html?_r=0', '8', '2', 'walterbell', '9/30/2015 4:12']]\n"
     ]
    }
   ],
   "source": [
    "headers = hn[0]\n",
    "print(headers)\n",
    "hn = hn[1:]\n",
    "print('\\n')\n",
    "print(hn[:5])"
   ]
  },
  {
   "cell_type": "code",
   "execution_count": 3,
   "metadata": {},
   "outputs": [
    {
     "name": "stdout",
     "output_type": "stream",
     "text": [
      "Number of Ask HN posts:  1744\n",
      "Number of Show HN posts:  1162\n",
      "Number of other posts:  17194\n"
     ]
    }
   ],
   "source": [
    "ask_posts = []\n",
    "show_posts = []\n",
    "other_posts = []\n",
    "\n",
    "for row in hn:\n",
    "    title = row[1]\n",
    "    title = title.lower()\n",
    "    if title.startswith('ask hn'):\n",
    "        ask_posts.append(row)\n",
    "    elif title.startswith('show hn'):\n",
    "        show_posts.append(row)\n",
    "    else:\n",
    "        other_posts.append(row)\n",
    "\n",
    "print(f'Number of Ask HN posts: ', len(ask_posts))\n",
    "print(f'Number of Show HN posts: ', len(show_posts))\n",
    "print(f'Number of other posts: ', len(other_posts))\n",
    "      "
   ]
  },
  {
   "cell_type": "code",
   "execution_count": 4,
   "metadata": {},
   "outputs": [
    {
     "name": "stdout",
     "output_type": "stream",
     "text": [
      "14.038417431192661\n",
      "10.31669535283993\n"
     ]
    }
   ],
   "source": [
    "total_ask_comments = 0\n",
    "total_show_comments = 0\n",
    "\n",
    "\n",
    "for row in ask_posts:\n",
    "    n_comment = int(row[4])\n",
    "    total_ask_comments += n_comment\n",
    "avg_ask_comments = total_ask_comments / len(ask_posts)\n",
    "print(avg_ask_comments)\n",
    "\n",
    "for row in show_posts:\n",
    "    n_comment = int(row[4])\n",
    "    total_show_comments += n_comment\n",
    "avg_show_comments = total_show_comments / len(show_posts)\n",
    "print(avg_show_comments)"
   ]
  },
  {
   "cell_type": "markdown",
   "metadata": {},
   "source": [
    "My analysis shows that ask posts receive more comments than show posts on average."
   ]
  },
  {
   "cell_type": "markdown",
   "metadata": {},
   "source": [
    "Next, I will calculate the amount of ask posts created in each hour of the day, along with the number of comments received."
   ]
  },
  {
   "cell_type": "code",
   "execution_count": 5,
   "metadata": {},
   "outputs": [],
   "source": [
    "import datetime as dt\n",
    "ask_result = []\n",
    "for row in ask_posts:\n",
    "    ask_result.append([row[6], int(row[4])])"
   ]
  },
  {
   "cell_type": "code",
   "execution_count": 6,
   "metadata": {},
   "outputs": [],
   "source": [
    "ask_counts_by_hour = {}\n",
    "ask_comments_by_hour ={}\n",
    "for row in ask_result:\n",
    "    split_date = row[0].split()\n",
    "    hour_1 = split_date[1]\n",
    "    hour_object = dt.datetime.strptime(hour_1, '%H:%M')\n",
    "    hour_2 = dt.datetime.strftime(hour_object, '%H')\n",
    "    if hour_2 not in ask_counts_by_hour:\n",
    "        ask_counts_by_hour[hour_2] = 1\n",
    "        ask_comments_by_hour[hour_2] = row[1]\n",
    "    else:\n",
    "        ask_counts_by_hour[hour_2] += 1\n",
    "        ask_comments_by_hour[hour_2] += row[1]"
   ]
  },
  {
   "cell_type": "code",
   "execution_count": 7,
   "metadata": {},
   "outputs": [
    {
     "name": "stdout",
     "output_type": "stream",
     "text": [
      "[['09', 5.5777777777777775], ['13', 14.741176470588234], ['10', 13.440677966101696], ['14', 13.233644859813085], ['16', 16.796296296296298], ['23', 7.985294117647059], ['12', 9.41095890410959], ['17', 11.46], ['15', 38.5948275862069], ['21', 16.009174311926607], ['20', 21.525], ['02', 23.810344827586206], ['18', 13.20183486238532], ['03', 7.796296296296297], ['05', 10.08695652173913], ['19', 10.8], ['01', 11.383333333333333], ['22', 6.746478873239437], ['08', 10.25], ['04', 7.170212765957447], ['00', 8.127272727272727], ['06', 9.022727272727273], ['07', 7.852941176470588], ['11', 11.051724137931034]]\n"
     ]
    }
   ],
   "source": [
    "ask_avg_by_hour = []\n",
    "for hour in ask_counts_by_hour:\n",
    "    avg_comm_post = ask_comments_by_hour[hour] / ask_counts_by_hour[hour]\n",
    "    ask_avg_by_hour.append([hour, avg_comm_post])\n",
    "print(ask_avg_by_hour)"
   ]
  },
  {
   "cell_type": "code",
   "execution_count": 8,
   "metadata": {},
   "outputs": [
    {
     "name": "stdout",
     "output_type": "stream",
     "text": [
      "[[5.5777777777777775, '09'], [14.741176470588234, '13'], [13.440677966101696, '10'], [13.233644859813085, '14'], [16.796296296296298, '16'], [7.985294117647059, '23'], [9.41095890410959, '12'], [11.46, '17'], [38.5948275862069, '15'], [16.009174311926607, '21'], [21.525, '20'], [23.810344827586206, '02'], [13.20183486238532, '18'], [7.796296296296297, '03'], [10.08695652173913, '05'], [10.8, '19'], [11.383333333333333, '01'], [6.746478873239437, '22'], [10.25, '08'], [7.170212765957447, '04'], [8.127272727272727, '00'], [9.022727272727273, '06'], [7.852941176470588, '07'], [11.051724137931034, '11']]\n"
     ]
    }
   ],
   "source": [
    "ask_swap_avg_by_hour = []\n",
    "for row in ask_avg_by_hour:\n",
    "    ask_swap_avg_by_hour.append([row[1], row[0]])\n",
    "print(ask_swap_avg_by_hour)"
   ]
  },
  {
   "cell_type": "code",
   "execution_count": 9,
   "metadata": {},
   "outputs": [],
   "source": [
    "ask_sorted_swap = sorted(ask_swap_avg_by_hour, reverse=True)"
   ]
  },
  {
   "cell_type": "code",
   "execution_count": 10,
   "metadata": {},
   "outputs": [
    {
     "name": "stdout",
     "output_type": "stream",
     "text": [
      "Top 5 Hours for Ask Posts Comments\n",
      "15:00: 38.59 average comments per post\n",
      "02:00: 23.81 average comments per post\n",
      "20:00: 21.52 average comments per post\n",
      "16:00: 16.80 average comments per post\n",
      "21:00: 16.01 average comments per post\n"
     ]
    }
   ],
   "source": [
    "print('Top 5 Hours for Ask Posts Comments')\n",
    "for row in ask_sorted_swap[:5]:\n",
    "    time_object = dt.datetime.strptime(row[1], '%H')\n",
    "    time = time_object.strftime('%H:%M')\n",
    "    avg_comments = row[0]\n",
    "    print(f'{time}: {avg_comments:.2f} average comments per post')"
   ]
  },
  {
   "cell_type": "markdown",
   "metadata": {},
   "source": [
    "Based on the result, an ask post create at 3 PM, 2 AM or 8 PM (UTC) have higher chance of receiving comments than other posts."
   ]
  },
  {
   "cell_type": "markdown",
   "metadata": {},
   "source": [
    "Let's see if show posts created at certain time are more likely to receive more comments:"
   ]
  },
  {
   "cell_type": "code",
   "execution_count": 11,
   "metadata": {},
   "outputs": [],
   "source": [
    "show_result = []\n",
    "for row in show_posts:\n",
    "    show_result.append([row[6], int(row[4])])"
   ]
  },
  {
   "cell_type": "code",
   "execution_count": 12,
   "metadata": {},
   "outputs": [],
   "source": [
    "show_counts_by_hour = {}\n",
    "show_comments_by_hour = {}\n",
    "\n",
    "for row in show_result:\n",
    "    split_date = row[0].split()\n",
    "    hour_1 = split_date[1]\n",
    "    hour_object = dt.datetime.strptime(hour_1, '%H:%M')\n",
    "    hour_2 = dt.datetime.strftime(hour_object, '%H')\n",
    "    if hour_2 not in show_counts_by_hour:\n",
    "        show_counts_by_hour[hour_2] = 1\n",
    "        show_comments_by_hour[hour_2] = row[1]\n",
    "    else:\n",
    "        show_counts_by_hour[hour_2] += 1\n",
    "        show_comments_by_hour[hour_2] += row[1]"
   ]
  },
  {
   "cell_type": "code",
   "execution_count": 13,
   "metadata": {},
   "outputs": [
    {
     "name": "stdout",
     "output_type": "stream",
     "text": [
      "[['14', 13.44186046511628], ['22', 12.391304347826088], ['18', 15.770491803278688], ['07', 11.5], ['20', 10.2], ['05', 3.0526315789473686], ['16', 11.655913978494624], ['19', 9.8], ['15', 8.102564102564102], ['03', 10.62962962962963], ['17', 9.795698924731182], ['06', 8.875], ['02', 4.233333333333333], ['13', 9.555555555555555], ['08', 4.852941176470588], ['21', 5.787234042553192], ['04', 9.5], ['11', 11.159090909090908], ['12', 11.80327868852459], ['23', 12.416666666666666], ['09', 9.7], ['01', 8.785714285714286], ['10', 8.25], ['00', 15.709677419354838]]\n"
     ]
    }
   ],
   "source": [
    "show_avg_by_hour = []\n",
    "for hour in show_counts_by_hour:\n",
    "    avg_by_hour = show_comments_by_hour[hour] / show_counts_by_hour[hour]\n",
    "    show_avg_by_hour.append([hour, avg_by_hour])\n",
    "print(show_avg_by_hour)"
   ]
  },
  {
   "cell_type": "code",
   "execution_count": 14,
   "metadata": {},
   "outputs": [
    {
     "name": "stdout",
     "output_type": "stream",
     "text": [
      "[[15.770491803278688, '18'], [15.709677419354838, '00'], [13.44186046511628, '14'], [12.416666666666666, '23'], [12.391304347826088, '22'], [11.80327868852459, '12'], [11.655913978494624, '16'], [11.5, '07'], [11.159090909090908, '11'], [10.62962962962963, '03'], [10.2, '20'], [9.8, '19'], [9.795698924731182, '17'], [9.7, '09'], [9.555555555555555, '13'], [9.5, '04'], [8.875, '06'], [8.785714285714286, '01'], [8.25, '10'], [8.102564102564102, '15'], [5.787234042553192, '21'], [4.852941176470588, '08'], [4.233333333333333, '02'], [3.0526315789473686, '05']]\n"
     ]
    }
   ],
   "source": [
    "show_swap_avg_by_hour = []\n",
    "for row in show_avg_by_hour:\n",
    "    show_swap_avg_by_hour.append([row[1], row[0]])\n",
    "show_sorted_swap = sorted(show_swap_avg_by_hour, reverse=True)\n",
    "print(show_sorted_swap)"
   ]
  },
  {
   "cell_type": "code",
   "execution_count": 15,
   "metadata": {},
   "outputs": [
    {
     "name": "stdout",
     "output_type": "stream",
     "text": [
      "Top 5 Hours for Show Posts Comments\n",
      "18:00: 15.77 average comments per post\n",
      "00:00: 15.71 average comments per post\n",
      "14:00: 13.44 average comments per post\n",
      "23:00: 12.42 average comments per post\n",
      "22:00: 12.39 average comments per post\n"
     ]
    }
   ],
   "source": [
    "print('Top 5 Hours for Show Posts Comments')\n",
    "for row in show_sorted_swap[:5]:\n",
    "    time_object = dt.datetime.strptime(row[1], '%H')\n",
    "    time = time_object.strftime('%H:%M')\n",
    "    avg_comments = row[0]\n",
    "    print(f'{time}: {avg_comments:.2f} average comments per post')"
   ]
  },
  {
   "cell_type": "markdown",
   "metadata": {},
   "source": [
    "My analysis shows that `Show HN` posts at 6 PM, 12 AM and 2 PM receive receive more comments than posts at other times.\n",
    "\n",
    "\n",
    "Next I will analyze to see if show or ask posts receive more points on average:"
   ]
  },
  {
   "cell_type": "code",
   "execution_count": 16,
   "metadata": {},
   "outputs": [
    {
     "name": "stdout",
     "output_type": "stream",
     "text": [
      "15.061926605504587\n",
      "10.31669535283993\n"
     ]
    }
   ],
   "source": [
    "total_ask_point = 0\n",
    "total_show_point = 0\n",
    "\n",
    "\n",
    "for row in ask_posts:\n",
    "    n_point = int(row[3])\n",
    "    total_ask_point += n_point\n",
    "avg_ask_point = total_ask_point / len(ask_posts)\n",
    "print(avg_ask_point)\n",
    "\n",
    "for row in show_posts:\n",
    "    n_point = int(row[4])\n",
    "    total_show_point += n_point\n",
    "avg_show_point = total_show_point / len(show_posts)\n",
    "print(avg_show_point)"
   ]
  },
  {
   "cell_type": "markdown",
   "metadata": {},
   "source": [
    "My analysis shows that ask posts receive more points than show posts on average."
   ]
  },
  {
   "cell_type": "markdown",
   "metadata": {},
   "source": [
    "Let's see if posts created at a certain time are more likely to receive more points:"
   ]
  },
  {
   "cell_type": "code",
   "execution_count": 17,
   "metadata": {},
   "outputs": [
    {
     "name": "stdout",
     "output_type": "stream",
     "text": [
      "[['8/16/2016 9:55', 6], ['11/22/2015 13:43', 29], ['5/2/2016 10:14', 1], ['8/2/2016 14:20', 3]]\n"
     ]
    }
   ],
   "source": [
    "print(ask_result[:4])"
   ]
  },
  {
   "cell_type": "code",
   "execution_count": null,
   "metadata": {},
   "outputs": [],
   "source": [
    "ask\n",
    "for row in ask_posts:\n",
    "    for row in show_result:\n",
    "    split_date = row[0].split()\n",
    "    hour_1 = split_date[1]\n",
    "    hour_object = dt.datetime.strptime(hour_1, '%H:%M')\n",
    "    hour_2 = dt.datetime.strftime(hour_object, '%H')\n",
    "    if hour_2 not in show_counts_by_hour:\n",
    "        show_counts_by_hour[hour_2] = 1\n",
    "        show_comments_by_hour[hour_2] = row[1]\n",
    "    else:\n",
    "        show_counts_by_hour[hour_2] += 1\n",
    "        show_comments_by_hour[hour_2] += row[1]"
   ]
  }
 ],
 "metadata": {
  "kernelspec": {
   "display_name": "Python 3",
   "language": "python",
   "name": "python3"
  },
  "language_info": {
   "codemirror_mode": {
    "name": "ipython",
    "version": 3
   },
   "file_extension": ".py",
   "mimetype": "text/x-python",
   "name": "python",
   "nbconvert_exporter": "python",
   "pygments_lexer": "ipython3",
   "version": "3.8.2"
  }
 },
 "nbformat": 4,
 "nbformat_minor": 2
}
